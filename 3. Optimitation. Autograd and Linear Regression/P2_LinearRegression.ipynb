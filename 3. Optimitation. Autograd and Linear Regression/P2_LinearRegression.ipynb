{
 "cells": [
  {
   "cell_type": "markdown",
   "metadata": {},
   "source": [
    "# Optimització - Linear regression"
   ]
  },
  {
   "cell_type": "markdown",
   "metadata": {},
   "source": [
    "En estadística, la **regressió lineal** és un enfocament lineal per modelar la relació entre una resposta escalar (o variable dependent) i una o més variables explicatives (o variables independents).\n",
    "\n",
    "En regressió lineal, les relacions es modelen mitjançant funcions lineals on els paràmetres del model s’estimen a partir de les dades. \n",
    "Aquests models s'anomenen models lineals. "
   ]
  },
  {
   "cell_type": "markdown",
   "metadata": {},
   "source": [
    "Suposem que treballem amb un conjunt de dades $ \\{y_{i}, x_{i_1}, \\ldots, x_{i_m} \\}_{i = 1}^{n}$ de $n$ unitats. \n",
    "\n",
    "Un **model de regressió lineal** assumeix que la relació entre la variable dependent $y$ i el vector $p$ dels regressors $x$ és lineal. \n",
    "Així, el model pren la forma:\n",
    "$${\\displaystyle y_{i}=\\beta _{0}+\\beta _{1}x_{i_1}+\\cdots +\\beta _{p}x_{i_p},\\qquad i=1,\\ldots ,n,}$$"
   ]
  },
  {
   "cell_type": "code",
   "execution_count": 1,
   "metadata": {},
   "outputs": [],
   "source": [
    "# Comprovem que autograd estigui instal·lat\n",
    "if __name__ == '__main__':\n",
    "    try:\n",
    "        import autograd\n",
    "    except:\n",
    "        print('No s\\'ha detectat autograd instal·lat')\n",
    "        if input('Vols instalar autograd? [s/n]').strip().lower() == 's':\n",
    "            !pip3 install --user -U autograd\n",
    "            !pip install --user -U autograd\n",
    "        else:\n",
    "            print('Abans de continuar instal·la autograd')"
   ]
  },
  {
   "cell_type": "code",
   "execution_count": 2,
   "metadata": {},
   "outputs": [],
   "source": [
    "from plot_utils import *\n",
    "\n",
    "import autograd.numpy as np\n",
    "from autograd import elementwise_grad as grad, value_and_grad\n",
    "import matplotlib.pyplot as plt\n",
    "import pandas as pd\n",
    "import random\n",
    "\n",
    "if __name__ == '__main__':\n",
    "    from IPython.display import display\n",
    "    \n",
    "    %matplotlib inline"
   ]
  },
  {
   "cell_type": "markdown",
   "metadata": {},
   "source": [
    "No es permet l'ús de cap llibreria o funció que no estigui ja importat, sigui aquí o més abaix en el notebook.\n",
    "\n",
    "Per Kaggle es permet l'ús d'altres llibreries/funcions sempre i quan únicament es facin servir pel processament de dades, i no pel model i/o predicció."
   ]
  },
  {
   "cell_type": "markdown",
   "metadata": {},
   "source": [
    "# AutoGrad\n",
    "\n",
    "En la part anterior, donada una funció havíem de definir també la funció que retorna el seu gradient.\n",
    "\n",
    "En aquesta pràctica, però, veurem que mitjançant l'ús de la llibreria **AutoGrad**, això no és necessari.\n",
    "\n",
    "Consideren les següents funcions:"
   ]
  },
  {
   "cell_type": "code",
   "execution_count": 3,
   "metadata": {},
   "outputs": [],
   "source": [
    "def f1(x):\n",
    "    return x**2\n",
    "\n",
    "def f2(x):\n",
    "    x, y = x[0], x[1]\n",
    "    return x**2 + y**2\n",
    "\n",
    "def f3(x):\n",
    "    x, y, z = x[0], x[1], x[2]\n",
    "    return (100 * (y - x**2)**2 + (1 - x)**2) + (100 * (z - y**2)**2 + (1 - y)**2)"
   ]
  },
  {
   "cell_type": "markdown",
   "metadata": {},
   "source": [
    "Donada la funció `f1`, podem fàcilment derivar el seu gradient, que és $2x$.\n",
    "\n",
    "Definim-lo manualment:"
   ]
  },
  {
   "cell_type": "code",
   "execution_count": 4,
   "metadata": {},
   "outputs": [],
   "source": [
    "def grad_f1_manual(x):\n",
    "    return 2*x"
   ]
  },
  {
   "cell_type": "markdown",
   "metadata": {},
   "source": [
    "Ara, obtinguem la funció gradient a partir d'autograd:"
   ]
  },
  {
   "cell_type": "code",
   "execution_count": 5,
   "metadata": {},
   "outputs": [],
   "source": [
    "grad_f1 = grad(f1)"
   ]
  },
  {
   "cell_type": "markdown",
   "metadata": {},
   "source": [
    "Podem comprovar que **les dues donen el mateix valor de gradient evaluat en un punt $x$**."
   ]
  },
  {
   "cell_type": "code",
   "execution_count": 6,
   "metadata": {},
   "outputs": [
    {
     "name": "stdout",
     "output_type": "stream",
     "text": [
      "Calcul manual gradient: df1'(x0) = 2046.0\n",
      "Autograd: df1'(x0) = 2046.0\n"
     ]
    }
   ],
   "source": [
    "x0 = np.asarray([1023.0])\n",
    "print('Calcul manual gradient: df1\\'(x0) = {}'.format(grad_f1_manual(x0)[0]))\n",
    "print('Autograd: df1\\'(x0) = {}'.format(grad_f1(x0)[0]))\n",
    "\n",
    "assert np.allclose(grad_f1_manual(x0), grad_f1(x0)) "
   ]
  },
  {
   "cell_type": "markdown",
   "metadata": {},
   "source": [
    "També podem utilitzar `value_and_grad` per obtenir directament amb la **imatge de la funció i el seu gradient en un punt $x$**:"
   ]
  },
  {
   "cell_type": "code",
   "execution_count": 7,
   "metadata": {},
   "outputs": [
    {
     "name": "stdout",
     "output_type": "stream",
     "text": [
      "(array([1046529.]), array([2046.]))\n"
     ]
    }
   ],
   "source": [
    "val_grad_f1 = value_and_grad(f1)\n",
    "print(val_grad_f1(x0))\n",
    "\n",
    "value, gradient = val_grad_f1(x0)\n",
    "assert np.allclose(value, f1(x0))\n",
    "assert np.allclose(gradient, grad_f1(x0))"
   ]
  },
  {
   "cell_type": "markdown",
   "metadata": {},
   "source": [
    "Inclús podem aplicar `grad` sobre un altre `grad` per obtenir la 2a derivada (o Hessià en multiples dimensions)."
   ]
  },
  {
   "cell_type": "code",
   "execution_count": 8,
   "metadata": {},
   "outputs": [
    {
     "data": {
      "image/png": "[encoded data removed]",
      "text/plain": [
       "<Figure size 432x288 with 1 Axes>"
      ]
     },
     "metadata": {
      "needs_background": "light"
     },
     "output_type": "display_data"
    }
   ],
   "source": [
    "grad_f1 = grad(f1) # df(x) = 2 * x\n",
    "grad2_f1 = grad(grad_f1) # d2f(x) = 2\n",
    "\n",
    "if __name__ == '__main__':\n",
    "    x = np.linspace(-5, 5, 100)\n",
    "    plt.plot(x, f1(x), label = 'f(x)')\n",
    "    plt.plot(x, grad_f1(x), color='green', label = 'df(x)')\n",
    "    plt.plot(x, grad2_f1(x), color='orange', label = 'd2f(x)')\n",
    "    plt.legend()"
   ]
  },
  {
   "cell_type": "markdown",
   "metadata": {},
   "source": [
    "# Descens del gradient"
   ]
  },
  {
   "cell_type": "markdown",
   "metadata": {},
   "source": [
    "**El primer pas serà implementar la mateixa funció `gradient_descend` que havieu fet en la part anterior, però ara mitjançant l'ús de la llibreria `autograd` i fent-la multidimensional.**\n",
    "\n",
    "Aquesta funció hauria d'executar sense problemes, i donar el mínim, per les tres funcions `f1`, `f2` i `f3` definides més adalt, de 1, 2 i 3 dimensions respectivament. Però, també haurà de funcionar per les següents parts de la pràctica, amb 100 o més dimensions."
   ]
  },
  {
   "cell_type": "code",
   "execution_count": 9,
   "metadata": {},
   "outputs": [],
   "source": [
    "# Per utilitzar aquesta llibreria cal tenir instalar el paquet tqdm\n",
    "from tqdm import tqdm_notebook\n",
    "\n",
    "def human_format(num):\n",
    "    \"\"\"\n",
    "    Funció auxiliar per formatar els nombres\n",
    "\n",
    "    100    -> 100.00\n",
    "    2100   -> 2.10K\n",
    "    342100 -> 342.10K\n",
    "    etc.    \n",
    "    \n",
    "    :param num: Nombre a formatar\n",
    "    :return: String amb el nombre formatat\n",
    "    \"\"\"\n",
    "    magnitude = 0\n",
    "    while abs(num) >= 1000:\n",
    "        magnitude += 1\n",
    "        num /= 1000.0\n",
    "    return '%.2f%s' % (num, ['', 'K', 'M', 'G', 'T', 'P'][magnitude])\n",
    "\n",
    "def gradient_descend(f, x0, alpha, eps=1e-6, max_iter=1000, print_iters=1000):\n",
    "    \"\"\"\n",
    "    Aquesta funció implementa l'algorisme de descens pel gradient, és a dir,\n",
    "    donat un punt inicial, la funció de la que calculem el gradient i el pas, \n",
    "    intenta trobar el mínim de la funció seguint el gradient en direcció oposada.\n",
    "    \n",
    "    Pel criteri d'aturada, considerarem si ||x^{k+1} - x^k|| < eps, és a dir\n",
    "    si la norma de la diferència és més petita que eps.\n",
    "    \n",
    "    Cada print_iters cal mostrar el resultat actual en la següent forma:\n",
    "        \"{}/{:.2f}\".format(human_format(itr), float(valor_de_f_en_x))\n",
    "    És dir, un missatge que inclogui la iteració i el valor de f en el punt\n",
    "    \n",
    "    :param f: Funció a minimitzar\n",
    "    :param x0: Punt inicial\n",
    "    :param alpha: Pas de cada iteració\n",
    "    :param eps: Moviment mínim realitzat abans de parar\n",
    "    :param max_epochs: Iteracions màximes a realitzar\n",
    "    :param print_iters: Numero d'iteracions per printar resultats\n",
    "    :return: La funció retornarà el punt on es troba el mínim\n",
    "    \"\"\"\n",
    "    func_grad = grad(f)\n",
    "    for it in range(max_iter):\n",
    "        next_p = x0 - alpha * func_grad(x0)\n",
    "        if it%print_iters == 0: print(\"{}/{:.2f}\".format(human_format(it), float(f(x0))))\n",
    "        if np.linalg.norm(next_p - x0) < eps:\n",
    "            break\n",
    "        x0 = next_p\n",
    "    return x0"
   ]
  },
  {
   "cell_type": "markdown",
   "metadata": {},
   "source": [
    "Busquem el mínim de cadascuna de les funcions:"
   ]
  },
  {
   "cell_type": "code",
   "execution_count": 10,
   "metadata": {},
   "outputs": [
    {
     "name": "stdout",
     "output_type": "stream",
     "text": [
      "0.00/16.00\n",
      "f1([4.98237376e-05]) = [2.48240483e-09]\n"
     ]
    }
   ],
   "source": [
    "if __name__ == '__main__':\n",
    "    x0 = np.array([4.0])\n",
    "    xm = gradient_descend(f1, x0, 0.01, 1e-6, 10000) # ~ @1s\n",
    "    print(f'f1({xm}) = {f1(xm)}')"
   ]
  },
  {
   "cell_type": "code",
   "execution_count": 11,
   "metadata": {},
   "outputs": [
    {
     "name": "stdout",
     "output_type": "stream",
     "text": [
      "0.00/42.01\n",
      "f2([3.06804779e-05 3.91176093e-05]) = 2.4714790816465446e-09\n"
     ]
    }
   ],
   "source": [
    "if __name__ == '__main__':\n",
    "    x0 = np.array([4.0, 5.1])\n",
    "    xm = gradient_descend(f2, x0, 0.01, 1e-6, 10000) # ~ @1s\n",
    "    print(f'f2({xm}) = {f2(xm)}')"
   ]
  },
  {
   "cell_type": "code",
   "execution_count": 12,
   "metadata": {},
   "outputs": [
    {
     "name": "stdout",
     "output_type": "stream",
     "text": [
      "0.00/58606.02\n",
      "1.00K/1.41\n",
      "2.00K/1.38\n",
      "3.00K/1.35\n",
      "4.00K/1.31\n",
      "5.00K/1.28\n",
      "6.00K/1.25\n",
      "7.00K/1.22\n",
      "8.00K/1.19\n",
      "9.00K/1.16\n",
      "10.00K/1.13\n",
      "11.00K/1.10\n",
      "12.00K/1.07\n",
      "13.00K/1.04\n",
      "14.00K/1.01\n",
      "15.00K/0.98\n",
      "16.00K/0.95\n",
      "17.00K/0.93\n",
      "18.00K/0.90\n",
      "19.00K/0.87\n",
      "20.00K/0.85\n",
      "21.00K/0.82\n",
      "22.00K/0.80\n",
      "23.00K/0.77\n",
      "24.00K/0.75\n",
      "25.00K/0.72\n",
      "26.00K/0.70\n",
      "27.00K/0.68\n",
      "28.00K/0.65\n",
      "29.00K/0.63\n",
      "30.00K/0.61\n",
      "31.00K/0.59\n",
      "32.00K/0.57\n",
      "33.00K/0.55\n",
      "34.00K/0.53\n",
      "35.00K/0.51\n",
      "36.00K/0.49\n",
      "37.00K/0.47\n",
      "38.00K/0.45\n",
      "39.00K/0.43\n",
      "40.00K/0.42\n",
      "41.00K/0.40\n",
      "42.00K/0.38\n",
      "43.00K/0.37\n",
      "44.00K/0.35\n",
      "45.00K/0.34\n",
      "46.00K/0.32\n",
      "47.00K/0.31\n",
      "48.00K/0.29\n",
      "49.00K/0.28\n",
      "f3([1.21262636 1.47124292 2.1662293 ]) = 0.26762081745762245\n"
     ]
    }
   ],
   "source": [
    "if __name__ == '__main__':\n",
    "    x0 = np.array([4.0, 5.1, 4.4])\n",
    "    xm = gradient_descend(f3, x0, 0.0001, 1e-6, 50000) # ~ @30s\n",
    "    print(f'f3({xm}) = {f3(xm)}')"
   ]
  },
  {
   "cell_type": "markdown",
   "metadata": {},
   "source": [
    "# Linear regression\n",
    "\n",
    "Cas simple: **Donat un conjunt de punts (X, Y) 2D, podem trobar la recta que minimitza la distància entre aquesta i tots els punts?**\n",
    "\n",
    "Recordatori: \n",
    "\n",
    "Per tal de definir una recta necesitem dos punts $(x_0, y_0)$ i $(x_1, y_1)$. A partir d'aquests dos punts podem definir la recta com:\n",
    "\n",
    "$$y={\\frac {y_{1}-y_{0}}{x_{1}-x_{0}}} (x-x_{0}) +y_{0} = m \\cdot x + n$$"
   ]
  },
  {
   "cell_type": "code",
   "execution_count": 13,
   "metadata": {},
   "outputs": [
    {
     "data": {
      "text/html": [
       "<div>\n",
       "<style scoped>\n",
       "    .dataframe tbody tr th:only-of-type {\n",
       "        vertical-align: middle;\n",
       "    }\n",
       "\n",
       "    .dataframe tbody tr th {\n",
       "        vertical-align: top;\n",
       "    }\n",
       "\n",
       "    .dataframe thead th {\n",
       "        text-align: right;\n",
       "    }\n",
       "</style>\n",
       "<table border=\"1\" class=\"dataframe\">\n",
       "  <thead>\n",
       "    <tr style=\"text-align: right;\">\n",
       "      <th></th>\n",
       "      <th>X</th>\n",
       "      <th>Y</th>\n",
       "    </tr>\n",
       "  </thead>\n",
       "  <tbody>\n",
       "    <tr>\n",
       "      <th>0</th>\n",
       "      <td>6.2</td>\n",
       "      <td>29</td>\n",
       "    </tr>\n",
       "    <tr>\n",
       "      <th>1</th>\n",
       "      <td>9.5</td>\n",
       "      <td>44</td>\n",
       "    </tr>\n",
       "    <tr>\n",
       "      <th>2</th>\n",
       "      <td>10.5</td>\n",
       "      <td>36</td>\n",
       "    </tr>\n",
       "    <tr>\n",
       "      <th>3</th>\n",
       "      <td>7.7</td>\n",
       "      <td>37</td>\n",
       "    </tr>\n",
       "    <tr>\n",
       "      <th>4</th>\n",
       "      <td>8.6</td>\n",
       "      <td>53</td>\n",
       "    </tr>\n",
       "  </tbody>\n",
       "</table>\n",
       "</div>"
      ],
      "text/plain": [
       "      X   Y\n",
       "0   6.2  29\n",
       "1   9.5  44\n",
       "2  10.5  36\n",
       "3   7.7  37\n",
       "4   8.6  53"
      ]
     },
     "metadata": {},
     "output_type": "display_data"
    },
    {
     "data": {
      "image/png": "[encoded data removed]",
      "text/plain": [
       "<Figure size 720x720 with 1 Axes>"
      ]
     },
     "metadata": {
      "needs_background": "light"
     },
     "output_type": "display_data"
    }
   ],
   "source": [
    "if __name__ == '__main__':\n",
    "    # Lectura de les dades\n",
    "    df = pd.read_csv('data/slr05.csv', index_col=0)\n",
    "    display(df.head())\n",
    "\n",
    "    # Visualització de les dades\n",
    "    plt.figure(figsize = (10, 10))\n",
    "    plt.scatter(df['X'], df['Y'])\n",
    "    plt.xlabel('Fires per 1000 housing units')\n",
    "    plt.ylabel('Thefts per 1000 population')\n",
    "    plt.title('Fire and Theft in Chicago')\n",
    "\n",
    "    # Possibles linies\n",
    "    # Parametres plt.plot: (x0, x1), (y0, y1)\n",
    "    plt.plot((0, 40), (0, 140), color='#ff0000')\n",
    "    plt.plot((0, 40), (0, 120), color='#ff0000')\n",
    "    plt.plot((0, 40), (10, 110), color='#ff0000')\n",
    "    plt.plot((0, 40), (20, 70), color='#ff0000')"
   ]
  },
  {
   "cell_type": "markdown",
   "metadata": {},
   "source": [
    "Per ara, donat que estem a 2D, podem visualitzar l'error, és a dir la distància respecte aquesta recta. Però tot i així és impossible que poguem visualitzar, d'entre les infinites línies possibles, la que s'ajusta millor a les dades.\n",
    "\n",
    "**Necessitem un algorisme que la trobi automàticament,** però primer visualitzem l'error de cadascuna de les anteriors rectes:"
   ]
  },
  {
   "cell_type": "code",
   "execution_count": 14,
   "metadata": {},
   "outputs": [
    {
     "data": {
      "image/png": "[encoded data removed]",
      "text/plain": [
       "<Figure size 432x288 with 1 Axes>"
      ]
     },
     "metadata": {
      "needs_background": "light"
     },
     "output_type": "display_data"
    },
    {
     "data": {
      "image/png": "[encoded data removed]",
      "text/plain": [
       "<Figure size 432x288 with 1 Axes>"
      ]
     },
     "metadata": {
      "needs_background": "light"
     },
     "output_type": "display_data"
    },
    {
     "data": {
      "image/png": "[encoded data removed]",
      "text/plain": [
       "<Figure size 432x288 with 1 Axes>"
      ]
     },
     "metadata": {
      "needs_background": "light"
     },
     "output_type": "display_data"
    },
    {
     "data": {
      "image/png": "[encoded data removed]",
      "text/plain": [
       "<Figure size 432x288 with 1 Axes>"
      ]
     },
     "metadata": {
      "needs_background": "light"
     },
     "output_type": "display_data"
    }
   ],
   "source": [
    "if __name__ == '__main__':\n",
    "    for x1, y1, y0 in ((40, 140, 0), (40, 120, 0), (40, 110, 10), (40, 70, 20)):\n",
    "        plt.figure()\n",
    "        # Visualització de les dades\n",
    "        plt.scatter(df['X'], df['Y'])\n",
    "        plt.xlabel('Fires per 1000 housing units')\n",
    "        plt.ylabel('Thefts per 1000 population')\n",
    "        plt.title(f'Fire and Theft in Chicago, y = {y0} + x * {(y1 - y0) / x1:.2f}')\n",
    "\n",
    "        # Visualització de la recta\n",
    "        plt.plot((0, x1), (y0, y1), color='#ff0000')\n",
    "\n",
    "        # Definció de la recta\n",
    "        f = lambda x: (y1 - y0) / x1 * x + y0\n",
    "\n",
    "        # Visualització de l'error per cada punt\n",
    "        for _, (x, y) in df.iterrows():\n",
    "            y_pred = f(x)\n",
    "            plt.plot((x, x), (y, y_pred), color='b', alpha=0.2)"
   ]
  },
  {
   "cell_type": "markdown",
   "metadata": {},
   "source": [
    "**Com definim un model que automàticament trobi aquesta recta?**\n",
    "\n",
    "Primer de tot, assumim que nosaltres tenim unes dades de les quals dispossem els valors de $x$ i els corresponents valors de $y$. Per exemple, les dades anteriors.\n",
    "\n",
    "1. Necessitem definir matemàticament una recta\n",
    "$$ r: \\hat{y} = m \\cdot x + n $$\n",
    "On $x$ és un punt que volem evaluar, $\\hat{y}$ és la imatge obtinguda en el punt $x$, i $m$, $n$ són els paràmetres que defineixen la recta. Idealment, voldríem trobar aquelles $m$, $n$ que, per tot punt $x$ tinguéssim una $\\hat{y}$ tal que $\\hat{y}=y$.\n",
    "\n",
    "2. Hem de mesurar l'error que estem cometent cada cop que provem una $m$, $n$ diferents (al que anomenarem *loss* del model). Per exemple, podríem definir l'error com a la distància entre el punt $y$ que hauria de ser i el $\\hat{y}$ que ens dona el model:\n",
    "$$\\mathbb{L} = \\sqrt{(y - \\hat{y})^2}$$\n",
    "\n",
    "3. Ara el que volem fer és trobar els valors de $m$, $n$ tal que $\\mathbb{L}=0$. Si parem atenció a la funció definida per $\\mathbb{L}$, veurem que efectivament $0$ és el mínim d'aquesta. Per tant, tot el que hem de fer és minimitzar la funció definida per\n",
    "$$\\mathbb{L} = \\sqrt{(y - (m \\cdot x + n))^2}$$\n",
    "\n",
    "Per simplificar una mica el problema, unirem les variables que volem optimitzar $m,n$ en una de sola: $w$. Per fer-ho, expandirem la fòrmula anterior a:\n",
    "$$\\tilde{x} = (1, x), w = (n, m)$$\n",
    "\n",
    "$$\\mathbb{L} = \\sqrt{(y - \\tilde{x} \\cdot w)^2}$$\n",
    "\n",
    "On $\\tilde{x}$ és un vector format per un $1$ i a continuació el valor de $x$ original. De forma que $\\tilde{x} \\cdot w = (1, x) \\cdot (n, m) = n + x\\cdot m = m\\cdot x + n$ (producte escalar)."
   ]
  },
  {
   "cell_type": "code",
   "execution_count": 44,
   "metadata": {},
   "outputs": [
    {
     "name": "stdout",
     "output_type": "stream",
     "text": [
      "Help on function square in module autograd.tracer:\n",
      "\n",
      "square(*args, **kwargs)\n",
      "    square(x, /, out=None, *, where=True, casting='same_kind', order='K', dtype=None, subok=True[, signature, extobj])\n",
      "    \n",
      "    Return the element-wise square of the input.\n",
      "    \n",
      "    Parameters\n",
      "    ----------\n",
      "    x : array_like\n",
      "        Input data.\n",
      "    out : ndarray, None, or tuple of ndarray and None, optional\n",
      "        A location into which the result is stored. If provided, it must have\n",
      "        a shape that the inputs broadcast to. If not provided or `None`,\n",
      "        a freshly-allocated array is returned. A tuple (possible only as a\n",
      "        keyword argument) must have length equal to the number of outputs.\n",
      "    where : array_like, optional\n",
      "        Values of True indicate to calculate the ufunc at that position, values\n",
      "        of False indicate to leave the value in the output alone.\n",
      "    **kwargs\n",
      "        For other keyword-only arguments, see the\n",
      "        :ref:`ufunc docs <ufuncs.kwargs>`.\n",
      "    \n",
      "    Returns\n",
      "    -------\n",
      "    out : ndarray or scalar\n",
      "        Element-wise `x*x`, of the same shape and dtype as `x`.\n",
      "        This is a scalar if `x` is a scalar.\n",
      "    \n",
      "    See Also\n",
      "    --------\n",
      "    numpy.linalg.matrix_power\n",
      "    sqrt\n",
      "    power\n",
      "    \n",
      "    Examples\n",
      "    --------\n",
      "    >>> np.square([-1j, 1])\n",
      "    array([-1.-0.j,  1.+0.j])\n",
      "\n"
     ]
    }
   ],
   "source": [
    "help(np.square)"
   ]
  },
  {
   "cell_type": "code",
   "execution_count": 54,
   "metadata": {},
   "outputs": [],
   "source": [
    "def add_bias(X):\n",
    "    \"\"\"\n",
    "    Funció que donada el vector x crea el vector x', afegint una columna d'1's al davant.\n",
    "    Per exemple, si X és\n",
    "        [\n",
    "            [1, 2, 5, 1, 5, 7],\n",
    "            [9, 4, 2, 4, 6, 1],\n",
    "            ...\n",
    "            [5, 3, 1, 4, 5, 7]\n",
    "        ]\n",
    "    El retorn de la funció serà la matriu\n",
    "        [\n",
    "            [1, 1, 2, 5, 1, 5, 7],\n",
    "            [1, 9, 4, 2, 4, 6, 1],\n",
    "            ...\n",
    "            [1, 5, 3, 1, 4, 5, 7]\n",
    "        ]\n",
    "    \n",
    "    *Sense bucles*\n",
    "    \n",
    "    :param X: Matriu on cada fila és una dada i cada columna una característica\n",
    "    :return: Mateixa matriu amb una columna de 1s davant\n",
    "    \"\"\"\n",
    "    return np.insert(X, 0, 1,axis = 1)\n",
    "\n",
    "def linear_regression(x, w):\n",
    "    \"\"\"\n",
    "    Donat un punt i els parameters del model prediu el valor, implementant el càlcul de\n",
    "    la regressió lineal:\n",
    "            y' = w0 * x0 + w1 * x1 + ... + xp * wp\n",
    "            \n",
    "    *Sense bucles*\n",
    "    \n",
    "    :param x: Matriu de dades i features, on la primera columna son 1s, té per shape [NDades, NFeatures]\n",
    "    :param w: Matriu de paràmetres, té per shape [1, NFeatures]\n",
    "    :return: Vector de tamany [NDades] amb la predicció y' per a cada punt\n",
    "    \"\"\"\n",
    "    return np.dot(x,w.T)\n",
    "\n",
    "def loss(y_true, y_pred):\n",
    "    \"\"\"\n",
    "    Funció que calcula la diferència entre la solució real i la predita mitjançant\n",
    "    distància euclidea\n",
    "        ||y_true - y_pred||\n",
    "        \n",
    "    :param y_true: Valor real de la Y\n",
    "    :param y_pred: Valor predit y' per a cada corresponent y\n",
    "    :return: Error de la predicció\n",
    "    \"\"\"\n",
    "    #return np.linalg.norm(y_true-y_pred)\n",
    "    #return np.square(np.mean(y_true-y_pred))\n",
    "    #return np.mean(np.abs(y_true-y_pred))\n",
    "    \n",
    "def model(w, x, y):\n",
    "    \"\"\"\n",
    "    Funció que genera el model que volem optimizar, calculant l'error d'una\n",
    "    predicció amb els pàrametres i valors passats\n",
    "    \n",
    "    :param w: Paràmetres del model\n",
    "    :param x: Dades del model\n",
    "    :param y: Valors a predir\n",
    "    :return: Error (loss) de les preddiccions\n",
    "    \"\"\"\n",
    "    return loss(y, linear_regression(x, w))"
   ]
  },
  {
   "cell_type": "markdown",
   "metadata": {},
   "source": [
    "Generem les dades que utilitzarem per entrenar el model (*X_fire*) i les seves etiquetes (*Y_fire*)."
   ]
  },
  {
   "cell_type": "code",
   "execution_count": 55,
   "metadata": {},
   "outputs": [],
   "source": [
    "if __name__ == '__main__':\n",
    "    X_fire = df['X'].values[:, np.newaxis]\n",
    "    X_fire = add_bias(X_fire)\n",
    "    Y_fire = df['Y'].values"
   ]
  },
  {
   "cell_type": "markdown",
   "metadata": {},
   "source": [
    "Per optimizar el model, necesitem initcialitzar els seus pesos amb valors random."
   ]
  },
  {
   "cell_type": "code",
   "execution_count": 56,
   "metadata": {},
   "outputs": [
    {
     "name": "stdout",
     "output_type": "stream",
     "text": [
      "0.00/55.84\n",
      "1.00K/21.19\n",
      "2.00K/21.00\n",
      "3.00K/20.82\n",
      "4.00K/20.63\n",
      "5.00K/20.45\n",
      "6.00K/20.28\n",
      "7.00K/20.10\n",
      "8.00K/19.93\n",
      "9.00K/19.76\n",
      "10.00K/19.60\n",
      "11.00K/19.43\n",
      "12.00K/19.27\n",
      "13.00K/19.11\n",
      "14.00K/18.95\n",
      "15.00K/18.80\n",
      "16.00K/18.65\n",
      "17.00K/18.51\n",
      "18.00K/18.36\n",
      "19.00K/18.22\n",
      "[[8.70269212 1.14421754]]\n"
     ]
    }
   ],
   "source": [
    "if __name__ == '__main__':\n",
    "    # Parametres per defecte del model\n",
    "    w0 = np.random.normal(size=(1, X_fire.shape[1]))\n",
    "    \n",
    "    # Optimització del model\n",
    "    wf_fire = gradient_descend(lambda w: model(w, X_fire, Y_fire), w0, 0.001, max_iter=20000, print_iters=1000) # ~ @5s\n",
    "    print(wf_fire)"
   ]
  },
  {
   "cell_type": "markdown",
   "metadata": {},
   "source": [
    "Visualització de la recta obtinguda amb el model i els errors de les seves prediccions."
   ]
  },
  {
   "cell_type": "code",
   "execution_count": 57,
   "metadata": {},
   "outputs": [
    {
     "name": "stdout",
     "output_type": "stream",
     "text": [
      "Mean error: 18.09\n"
     ]
    },
    {
     "data": {
      "image/png": "[encoded data removed]",
      "text/plain": [
       "<Figure size 432x288 with 1 Axes>"
      ]
     },
     "metadata": {
      "needs_background": "light"
     },
     "output_type": "display_data"
    }
   ],
   "source": [
    "if __name__ == '__main__':\n",
    "    plt.figure()\n",
    "    # Visualització de les dades\n",
    "    plt.scatter(df['X'], df['Y'])\n",
    "    plt.xlabel('fires per 1000 housing units')\n",
    "    plt.ylabel('thefts per 1000 population')\n",
    "    plt.title('Fire and Theft in Chicago')\n",
    "\n",
    "    # Visualització de la recta\n",
    "    # Parametres plt.plot: (x0, x1), (y0, y1)\n",
    "    plt.plot((0, 40), (wf_fire[0, 0], linear_regression((1, 40), wf_fire)), color='#ff0000')\n",
    "\n",
    "    # Visualització de l'error a cada punt\n",
    "    for _, (x, y) in df.iterrows():\n",
    "        y_pred = linear_regression((1, x), wf_fire)\n",
    "        plt.plot((x, x), (y, y_pred), color='b', alpha=0.2)\n",
    "\n",
    "    y_fire_pred = linear_regression(X_fire, wf_fire)\n",
    "    print('Mean error: {:.2f}'.format(np.mean(np.abs(Y_fire - y_fire_pred))))"
   ]
  },
  {
   "cell_type": "markdown",
   "metadata": {},
   "source": [
    "# Dades multidimensionals sobre les dades\n",
    "\n",
    "En l'apartat anterior tenim un sol valor de $x$ pel qual volíem obtenir un valor de $y$, però en la gran majoria de casos no serà així.\n",
    "\n",
    "En aquest apartat volem trobar una regressió lineal tal que $dim(X) = 6$, i per tant necessitem un total de 7 paràmetres ($dim(w) = 7$)"
   ]
  },
  {
   "cell_type": "code",
   "execution_count": null,
   "metadata": {},
   "outputs": [],
   "source": [
    "if __name__ == '__main__':\n",
    "    # Lectura de les dades\n",
    "    dg = pd.read_csv('data/mlr10.csv', index_col=0)\n",
    "    Y_pop = dg.values[:, 0]\n",
    "    X_pop = dg.values[:, 1:]\n",
    "    X_pop = add_bias(X_pop)\n",
    "    display(dg.head())"
   ]
  },
  {
   "cell_type": "code",
   "execution_count": null,
   "metadata": {},
   "outputs": [],
   "source": [
    "if __name__ == '__main__':\n",
    "    # Parametres per defecte del model\n",
    "    w0 = np.random.normal(size=(1, X_pop.shape[1]))\n",
    "\n",
    "    # Optimització del model\n",
    "    wf_population = gradient_descend(lambda w: model(w, X_pop, Y_pop), w0, 0.001, max_iter=100000, print_iters=1000) # ~ @20s\n",
    "    print(wf_population)"
   ]
  },
  {
   "cell_type": "code",
   "execution_count": null,
   "metadata": {},
   "outputs": [],
   "source": [
    "if __name__ == '__main__':\n",
    "    # Utilitzant els paràmetres apresos, obtenim la predicció per a cada punt\n",
    "    y_pop_pred = linear_regression(X_pop, wf_population)"
   ]
  },
  {
   "cell_type": "code",
   "execution_count": null,
   "metadata": {},
   "outputs": [],
   "source": [
    "if __name__ == '__main__':\n",
    "    # Visualització de les dades originals i les prediccions\n",
    "    plt.figure(figsize=(20, 3))\n",
    "    plt.scatter(range(Y_pop.shape[0]), Y_pop, color='green', label = 'y')\n",
    "    plt.scatter(range(Y_pop.shape[0]), y_pop_pred, color='red', label = 'y_pred')\n",
    "    plt.xlabel('Samples')\n",
    "    plt.ylabel('Total population')\n",
    "    plt.legend()\n",
    "\n",
    "    for x in range(X_pop.shape[0]):\n",
    "        plt.plot((x, x), (0, 20), '-.', color='gray', alpha=0.2)\n",
    "\n",
    "    print('Mean error: {:.2f}'.format(np.mean(np.abs(Y_pop - y_pop_pred))))"
   ]
  },
  {
   "cell_type": "markdown",
   "metadata": {},
   "source": [
    "# Airbnb: dades reals (a baixa escala)\n",
    "\n",
    "### Airbnb Dataset\n",
    "\n",
    "Les dades amb les que treballarem en aquesta pràctica són dades reals recopilades per *Airbnb*. \n",
    "Aquestes analitzen la informació disponible sobre els llistats d’Airbnb d’una ciutat, proporcionant filtres i mètriques clau perquè pugueu veure com Airbnb s’utilitza per competir amb el mercat d’habitatges residencials.\n",
    "\n",
    "Amb aquestes dades podrieu fer preguntes fonamentals sobre Airbnb a qualsevol barri o a tota la ciutat. Preguntes com:\n",
    "\n",
    "- \"Quants fitxes hi ha al meu barri i on són?\"\n",
    "- \"Quantes cases i apartaments es lloguen amb freqüència a turistes i no a residents a llarg termini?\"\n",
    "- \"Quant costen els hostes des del lloguer als turistes (compareu-ho amb els lloguers a llarg termini)?\"\n",
    "- \"Quins amfitrions tenen una empresa amb diversos llistats i on?\"\n",
    "\n",
    "Les dades inclou dades com:\n",
    "- Quantitat de nits que es lloga una vivenda a l'any.\n",
    "- Estades mínimes.\n",
    "- Quantes habitacions es lloguen en un edifici.\n",
    "- Nombre d’ocupats permesos en un lloguer.\n",
    "\n",
    "En el nostre cas, **volem predir el preu de la vivenda utilitzant el resum donat.**"
   ]
  },
  {
   "cell_type": "code",
   "execution_count": null,
   "metadata": {},
   "outputs": [],
   "source": [
    "import zipfile\n",
    "from os.path import join, dirname\n",
    "\n",
    "def locate(*path):\n",
    "    base = globals().get('__file__', '.')\n",
    "    return join(dirname(base), *path)\n",
    "\n",
    "def unzip(file):\n",
    "    zip_ref = zipfile.ZipFile(locate(file), 'r')\n",
    "    zip_ref.extractall(locate('data'))\n",
    "    zip_ref.close()\n",
    "\n",
    "def clean(s):\n",
    "    try:\n",
    "        s = s.replace('O', '0').replace(',', '').replace('$', '')\n",
    "        return np.float(s.split()[0])\n",
    "    except:\n",
    "        return np.nan\n",
    "\n",
    "def tobool(s):\n",
    "    return s == 't'\n",
    "\n",
    "if __name__ == '__main__':\n",
    "    def open_airbnb_data(file):\n",
    "        unzip(f'{file}.zip')\n",
    "        \n",
    "        return pd.read_csv(f'data/{file}.csv',\n",
    "            converters={\n",
    "                'zipcode': clean,\n",
    "                'price': clean,\n",
    "                'weekly_price': clean,\n",
    "                'monthly_price': clean,\n",
    "                'host_is_superhost': tobool,\n",
    "                'host_identity_verified': tobool,\n",
    "                'host_has_profile_pic': tobool,\n",
    "                'is_location_exact': tobool,\n",
    "                'has_availability': tobool,\n",
    "                'requires_license': tobool,\n",
    "                'instant_bookable': tobool,\n",
    "                'is_business_travel_ready': tobool,\n",
    "                'require_guest_profile_picture': tobool,\n",
    "                'require_guest_phone_verification': tobool,\n",
    "                'summary': lambda s: s or ''\n",
    "            }\n",
    "        )\n",
    "    \n",
    "    \n",
    "    df_airbnb = open_airbnb_data('data_public')"
   ]
  },
  {
   "cell_type": "code",
   "execution_count": null,
   "metadata": {},
   "outputs": [],
   "source": [
    "if __name__ == '__main__':\n",
    "    display(df_airbnb.head())"
   ]
  },
  {
   "cell_type": "code",
   "execution_count": null,
   "metadata": {},
   "outputs": [],
   "source": [
    "df_airbnb.columns.to_numpy()\n",
    "for i in df_airbnb.columns.to_numpy():\n",
    "    print(df_airbnb[i][0])\n",
    "    if type(df_airbnb[i][0]) == str:\n",
    "        print(len(df_airbnb[i][1]))\n",
    "        if len(df_airbnb[i][0]) > 1:\n",
    "            print('interesting')"
   ]
  },
  {
   "cell_type": "markdown",
   "metadata": {},
   "source": [
    "### Bag-of-words\n",
    "\n",
    "Per tal de poder treballar amb text haurem de crear un vector que representi allò que hi està escrit.\n",
    "Aquesta idea s'anomena **bag-of-words** i és una representació simplificadora que s’utilitza en el processament de llenguatges naturals i la recuperació d’informació (IR). \n",
    "En aquest model, un text (com una frase o un document) es representa com la bossa (multiset) de les seves paraules, prescindint de la gramàtica i fins i tot de l'ordre de les paraules, però mantenint la multiplicitat. \n",
    "\n",
    "Aquest s’utilitza habitualment en mètodes de classificació o regressió de documents on l’ocurrència (freqüència de) de cada paraula s’utilitza com a característica per entrenar un predictor.\n",
    "\n",
    "**PipeLine:**\n",
    "\n",
    "```Python\n",
    "text = 'Apartment located near the \"Plaza de las Glorias\". Great apartament in Barcelona', ...\n",
    "```\n",
    "Un cop tinguem les nostres dades, hem de passar pel procés de neteja. Per als conjunts de dades de text en general, això inclou sovint:\n",
    "- Eliminació de la puntuació.\n",
    "- Eliminació de les paraules d'aturada, en anglès *stopword*, (coses com \"el\", \"això\", \"què\").\n",
    "- Stemming / lematization (reduir les paraules a la seva forma base eliminant sufixos com \"-ed\", \"-ing\", plurals...) (MÉS AVANÇAT).\n",
    "\n",
    "A més, el tracte de text i comentaris en línia requereix una eliminació addicional d’elements com hiperenllaços, noms d’usuari i missatges automatitzats (el comentari més comú en aquest conjunt de dades era un missatge de benvinguda de Wikipedia per als nous usuaris).\n",
    "\n",
    "```Python\n",
    "# Tokenització\n",
    "tok = [['apartment', 'located', 'near', 'the', 'plaza', 'de', 'las', 'glorias', 'great', 'apartament', 'in', 'barcelona'], ... ]\n",
    "\n",
    "# Paraules Comuns (Suposem 3)\n",
    "com = ['apartament', 'Barcelona', 'airport']\n",
    "```\n",
    "\n",
    "Per convertir les paraules en quelcom que un algorisme d’aprenentatge automàtic pugui comprendre i processar, hem de vectoritzar. En poques paraules, aquest és el procés de convertir les paraules en vectors multidimensionals de tal manera que el significat o el context de la paraula es correlaciona amb aquest vector. En cert sentit, la vectorització permet als ordinadors quantificar el significat de les paraules mapant significats de paraules similars a espais vectorials similars.\n",
    "\n",
    "```Python\n",
    "# Vector de característiques\n",
    "feats = [\n",
    "    np.array([1, 1, 0]), # els 1 representes que la paraula està a la frase i els 0 que no.\n",
    "    ...\n",
    "]\n",
    "```"
   ]
  },
  {
   "cell_type": "code",
   "execution_count": null,
   "metadata": {
    "scrolled": true
   },
   "outputs": [],
   "source": [
    "from nltk.corpus import stopwords \n",
    "from nltk.tokenize import word_tokenize \n",
    "\n",
    "import nltk\n",
    "nltk.download('punkt')\n",
    "nltk.download('stopwords')\n",
    "\n",
    "def tokenize(df):\n",
    "    \"\"\"\n",
    "    Funció que donat el dataframe amb les dades d'Airbnb retorna\n",
    "    una llista de llistes on cada subllista conté les paraules\n",
    "    tokenitzades del text extret de la columna \"summary\".\n",
    "    \n",
    "    Per facilitar la feina de la tokenització podeu utilizar les stopwords \n",
    "    que venen amb la llibreria nltk i la funció word_tokenize.\n",
    "    \n",
    "    :param df: DataFrame que conté el dataset\n",
    "    :return : Llista de llistes amb la informació indicada\n",
    "    \"\"\"\n",
    "    #List of stopwords\n",
    "    _stopwords = stopwords.words()\n",
    "    \n",
    "    #Auxiliar list which will be storing the list with the tokens (no numerical nor punctuation signs) in every summary\n",
    "    tokens = [[w.lower() for w in word_tokenize(summary) if w.lower().isalpha()] for summary in df['summary']]\n",
    "    \n",
    "    #Now we have to find which words are stopwords\n",
    "    tokenized_summaries = [np.array(t)[~np.isin(np.array(t),_stopwords)].tolist() for t in tokens]\n",
    "        \n",
    "    return tokenized_summaries"
   ]
  },
  {
   "cell_type": "code",
   "execution_count": null,
   "metadata": {},
   "outputs": [],
   "source": [
    "def most_common(tokens, n):\n",
    "    \"\"\"\n",
    "    Funció que retorna les n parales més frequents a partir dels tokens\n",
    "    \n",
    "    :param tokens: Tokens obtinguts amb `tokenize`\n",
    "    :param n: Int, nombre d'elements que es demanen retornar\n",
    "    :return: Llista amb el top n elements\n",
    "    \"\"\"\n",
    "    all_tokens = [t for sub_tokens in tokens for t in sub_tokens]\n",
    "    \n",
    "    w,c = np.unique(np.asarray(all_tokens), return_counts = True)\n",
    "    counted_tokens = {w[i]:c[i] for i in range(len(w))}\n",
    "    counted_tokens = sorted(counted_tokens.keys(), key = counted_tokens.__getitem__, reverse = True)\n",
    "\n",
    "    return counted_tokens[:n]"
   ]
  },
  {
   "cell_type": "code",
   "execution_count": null,
   "metadata": {},
   "outputs": [],
   "source": [
    "def get_features(df, tokens, most_common_tokens):\n",
    "    \"\"\"\n",
    "    Funció que retorna un vector de 0 i 1 per cadascuna de les entrades del dataset,\n",
    "    en funció de si les paraules comunes es troben o no entre els tokens.\n",
    "    \n",
    "    Per a cada dada, mirarem si quines de les paraules comunes apareixen entre els tokens,\n",
    "    posant un 1 a les que sí i un 0 a les que no.\n",
    "    \n",
    "    Cada dada tindrà, a més dels 0/1 corresponents a les N paraules més comunes, una columna\n",
    "    més, corresponent a la columna 'require_guest_phone_verification' de 'df'. Per tant,\n",
    "    el retorn per cada dada serà\n",
    "    [0, 1, .........., 0,         1         ]\n",
    "    |N tokens més comuns, columna addicional|\n",
    "    \n",
    "    *Únicament es permeten bucles pel càlcul dels 0/1s dels tokens*\n",
    "    \n",
    "    :param df: DataFrame que conté el dataset\n",
    "    :param tokens: Tokens per cada entrada del dataset\n",
    "    :param most_common_tokens: N tokens més comuns\n",
    "    :return : Matriu de característiques de cada entrada del dataset, incloent els\n",
    "        0/1s dels tokens i la columna 'require_guest_phone_verification'\n",
    "    \"\"\"\n",
    "    \n",
    "    n_features = len(most_common_tokens)\n",
    "    n_summaries = len(tokens)\n",
    "    common_tokens = np.array(most_common_tokens)\n",
    "    \n",
    "    #Initialize the feature array\n",
    "    features = np.zeros(shape=(n_summaries,n_features))\n",
    "\n",
    "    #we get the phone verification requirment and turn it into binary\n",
    "    rgpv_arr = df['require_guest_phone_verification'].values\n",
    "    rgpb_arr = [np.where(rgpv_arr,1,0).tolist()]\n",
    "    \n",
    "    for i in range(n_summaries):\n",
    "        \n",
    "        token_vector = np.array(tokens[i])\n",
    "        \n",
    "        #we confirm if the vector contains a common word and turn it into binary\n",
    "        is_token_in = np.isin(common_tokens,token_vector)\n",
    "        features[i] = np.where(is_token_in,1,0)\n",
    "    \n",
    "    #we finally add the phone verification requirment column at the resultant matrix\n",
    "    features = np.append(features, np.array(rgpb_arr).T, axis=1)\n",
    "    \n",
    "    return features"
   ]
  },
  {
   "cell_type": "markdown",
   "metadata": {},
   "source": [
    "El resultat serà un *np.array* (no necessàriament amb aquest valors):\n",
    "\n",
    "```python\n",
    "np.array([\n",
    "    np.array([0, 1, 1, 0, ...]), # 1r Summary\n",
    "    np.array([0, 1, 1, 1, ...]), # 2n Summary\n",
    "    ...\n",
    "])\n",
    "```"
   ]
  },
  {
   "cell_type": "markdown",
   "metadata": {},
   "source": [
    "### Partició de dades\n",
    "\n",
    "En l'aprenentatge automàtic, una tasca habitual és l'estudi i la construcció d'algorismes que poden aprendre i fer prediccions sobre dades. Aquests algoritmes funcionen fent prediccions o decisions basades en dades, mitjançant la creació d'un model matemàtic a partir de dades d'entrada.\n",
    "\n",
    "Les dades que s’utilitzen per construir el model final normalment provenen de múltiples conjunts de dades. En particular, dos conjunts de dades s’utilitzen habitualment en diferents etapes de la creació del model: dades d'entrenament (train) i de prova (test).\n",
    "\n",
    "El model s’adapta inicialment a un conjunt de dades d’entrenament, que és un conjunt d’exemples que s’utilitzen per ajustar els paràmetres (per exemple, pesos del model de regressió linal) del model. \n",
    "El model es forma en el **conjunt de dades d’entrenament** que sovint consisteix en parells d’un vector d’entrada (o escalar) i el vector de sortida corresponent (o escalar), que es denomina habitualment com a objectiu (o etiqueta). El model actual s'executa amb el conjunt de dades d'entrenament i produeix un resultat, que es compara després amb l'objectiu, per a cada vector d'entrada del conjunt de dades d'entrenament. A partir del resultat de la comparació i de l'algorisme d'aprenentatge específic que s'utilitza, s'ajusten els paràmetres del model. L'adaptació del model pot incloure selecció de variables i estimació de paràmetres.\n",
    "\n",
    "El **conjunt de dades de prova** és un conjunt de dades utilitzat per proporcionar una avaluació imparcial d’un model. Si les dades de prova no s’han utilitzat mai durant l'entrenament, el resultats representa el comportament esperat del model.\n",
    "\n",
    "A continuació heu d'implementar la funció *split* que crea aquesta partició de dades."
   ]
  },
  {
   "cell_type": "code",
   "execution_count": null,
   "metadata": {},
   "outputs": [],
   "source": [
    "def split(X, Y, train_percent, random_seed=None):\n",
    "    \"\"\"\n",
    "    Divideix el conjunt de dades en dos subconjunts aleatoris diferents, sense\n",
    "    intersecció.\n",
    "    La divisió es fa conjuntament en X i Y, és a dir, donat una dada x de X,\n",
    "    la seva corresponent y en Y es troba en el mateix conjunt\n",
    "    X = [[1, 2, 3], [2, 3, 1], ..., [1, 4, 5]]\n",
    "    Y = [1, 2, ..., 5]\n",
    "    \n",
    "    Train: X = [[1, 2, 3], [1, 4, 5]]; Y = [1, 5]\n",
    "    Test:  X = [[2, 3, 1]]; Y = [2]\n",
    "    \n",
    "    :param X: Dades del model\n",
    "    :param Y: Corresponents valors a predir\n",
    "    :param train_percent: Percentatge entre 0 i 1, indicant el nombre\n",
    "        d'elements que contindrà el conjunt de train\n",
    "    :param random_seed: En cas de que sigui necessari (no és obligatori fer-ho servir), \n",
    "        per fixar el comporament de random\n",
    "    :return: Una llista/tupla que contingui, en aquest ordre, \n",
    "        * Conjunt train X [NDadesTrain, NFeatures]\n",
    "        * Conjunt test X [NDadesTest, NFeatures]\n",
    "        * Conjunt train Y [NDadesTrain]\n",
    "        * Conjunt test Y [NDadesTest]\n",
    "    \"\"\"\n",
    "    random_array = np.random.rand(X.shape[0])\n",
    "    split_mask = random_array < (1-train_percent)\n",
    "    \n",
    "    X_train = X[split_mask]\n",
    "    Y_train = Y[split_mask]\n",
    "    X_test =  X[~split_mask]\n",
    "    Y_test = Y[~split_mask]\n",
    "\n",
    "    return (X_train, X_test, Y_train, Y_test)"
   ]
  },
  {
   "cell_type": "markdown",
   "metadata": {},
   "source": [
    "Abans de generar els conjunts d'entrenament i prova cal generar els vectors que representen cada entrada de les dades."
   ]
  },
  {
   "cell_type": "code",
   "execution_count": null,
   "metadata": {},
   "outputs": [],
   "source": [
    "if __name__ == '__main__':\n",
    "    tok = tokenize(df_airbnb)\n",
    "    \n",
    "    com = most_common(tok, 100)\n",
    "\n",
    "    feats = get_features(df_airbnb, tok, com)"
   ]
  },
  {
   "cell_type": "code",
   "execution_count": null,
   "metadata": {},
   "outputs": [],
   "source": [
    "if __name__ == '__main__':\n",
    "    # Valors amb els que predirem el preu de la vivenda\n",
    "    X = add_bias(feats)\n",
    "\n",
    "    # Valors reals de la vivenda\n",
    "    Y = df_airbnb['price'].values\n",
    "\n",
    "    # Partim en train i test\n",
    "    X_train, X_test, Y_train, Y_test = split(X, Y, train_percent=0.8) #Cambiar 0.8"
   ]
  },
  {
   "cell_type": "code",
   "execution_count": null,
   "metadata": {},
   "outputs": [],
   "source": [
    "if __name__ == '__main__':\n",
    "    # Parametres per defecte del model\n",
    "    w0 = np.random.normal(size=(1, X.shape[1]))\n",
    "\n",
    "    # Optimització del model sobre train\n",
    "    wf = gradient_descend(lambda w: model(w, X_train, Y_train), w0, 0.01, max_iter=5000, print_iters=100) # ~ @2min\n",
    "    \n",
    "    # Realitzem la predicció sobre test\n",
    "    y_pred = linear_regression(X_test, wf)"
   ]
  },
  {
   "cell_type": "code",
   "execution_count": null,
   "metadata": {},
   "outputs": [],
   "source": [
    "if __name__ == '__main__':\n",
    "    # Mostrem únicament 100 dades en el gràfic\n",
    "    size = 100\n",
    "    sample = np.random.choice(X_test.shape[0], size=size, replace=False)\n",
    "\n",
    "    # Mínima i màxima Y a mostrar en el gràfic\n",
    "    miny = np.minimum(y_pred[sample].min(), Y_test[sample].min()) - 10\n",
    "    maxy = np.maximum(y_pred[sample].max(), Y_test[sample].max()) + 1e3\n",
    "\n",
    "    # Visualització de les dades originals i les prediccions\n",
    "    plt.figure(figsize=(20, 3))\n",
    "    plt.scatter(range(size), Y_test[sample], color='green', label = 'price')\n",
    "    plt.scatter(range(size), y_pred[sample], color='red', label = 'pred_price')\n",
    "    plt.xlabel('100 random samples')\n",
    "    plt.ylabel('Total population (log scale)')\n",
    "    plt.yscale('symlog')\n",
    "    plt.ylim([miny, maxy])\n",
    "    plt.grid(axis='y', which='minor', alpha=0.2)\n",
    "    plt.grid(axis='y', which='major', alpha=0.3)\n",
    "    plt.legend()\n",
    "\n",
    "    for x in range(size):\n",
    "        plt.plot((x, x), (miny, maxy), '-.', color='gray', alpha=0.2)\n",
    "\n",
    "    print('Mean error: {:.2f}'.format(np.mean(np.abs(Y_test - y_pred))))"
   ]
  },
  {
   "cell_type": "markdown",
   "metadata": {},
   "source": [
    "# Millores i Kaggle\n",
    "\n",
    "### ** Dels següents punts és obligatori implementar-ne dos per la pràctica, fes-ho en noves cel·les al final del notebook, no modifiquis les anteriors.**\n",
    "#### **Per Kaggle pots duplicar el notebook i implementar tants punts com vulguis.**\n",
    "\n",
    "Cap de les implementacions que facis pot modificar la regressió lineal en sí mateixa (la funció `linear_regression`) de forma que:\n",
    "\n",
    "* Tingui més paràmetres que la $w$ ja existent\n",
    "* Afegeixi més complexitat al model\n",
    "\n",
    "Dit això, es proposa:\n",
    "\n",
    "1. Donat el tipus de dades, té sentit que la regressió lineal dongui nombres negatius? Compta si decideixes controlar-ho a nivell de la fòrmula de la regressió (vs a nivell dels valors predits), potser el model tendirà a modelar els outliers (valors fora del normal/mitja/distribució) enlloc dels elements representatius.\n",
    "\n",
    "* Tokenitza i busca tokens més comuns no solament a `summary`, sinó també a les altres columnes que contenen text.\n",
    "\n",
    "* Afegeix més features al vector X. El model s'entrena amb les característiques extretes de la columna `summary` i `require_guest_phone_verification`, però perque no fer-ne servir més?\n",
    "> Tingues en compte que no pots agafar cap de les columnes de preu (`price`, `weekly_price`, `monthly_price`, `security_deposit`, `cleaning_fee` i `extra_people`), ja que en les dades de Kaggle no està disponible\n",
    "\n",
    "* Segons quines dades agafis, és possible que els valors de la característiquis siguin molt dispars. Per exemple, una columna pot tenir de màxim 1 però una altra podria tenir 1000. Normalitza aquests valors de forma que tots tinguin el mateix màxim i mínim. Pots normalitzar també el vector a predir Y, sempre i quan ho tinguis en compte en les noves prediccions.\n",
    "\n",
    "* La regressió lineal, com el nom indica, és un model lineal, i per tant està limitat amb el tipus de dades que pot representar. Per exemple, generalment, no pot modelar adequadament dades exponencials, logarístimiques, quadràtiques, etc. Això, però, es pot mitigar mitjançant les característiques que es passen al model. Per exemple, si l'entrada és $x$, podríem ampliar aquesta entrada a $(x, x^2)$, on la segona part és simplement cada una de les característiques al quadrat. D'igual forma, podríem ampliar indefinidament $(x, x^2, log(x), e^x, ...)$, però evidentment el cost computacional i el temps d'entrenament creixen, i la millora cada cop és més marginal, si n'hi ha.\n",
    "\n",
    "* Filtra les dades per evitar utilitzar outliers, de forma que no afectin en l'entrenament.\n",
    "\n",
    "* Fes una millor selecció de tokens, ens interessen totes les paraules? Tot i que no siguin stopwords, volem tots els números, símbols, etc.?\n",
    "\n",
    "* Per regressió es poden triar múltiples funcions d'error. Aquí estem fent simplement la distància euclidea, però es pot estudiar l'ús d'altres com: Mean Squared Error, Mean Absolute Error, Huber Loss, d'entre altres. Algunes d'elles són més robustes contra outliers, d'altres més sensibles.\n",
    "\n",
    "* Els paràmetres inicials es trien random segons una distribució normal $N(0, 1)$, són adequats donats els valors de les característiques i de l'output que esperem? Normalitzar tant $X$ com $Y$ pot ajudar a que ho siguin, en cas que no ho facis, aquests valors poden allargar/dificultar el procés.\n",
    "\n",
    "* Selecciona un nombre diferent de tokens més comuns. Inicialment utilitzem 100, són masses/pocs? Compte amb el cost computacional.\n",
    "\n",
    "* Hem utilitzat la forma binomial de bag of words, és a dir 0 o 1, però es podria mirar si implementar la multinomial (0-n, on n és el nombre d'aparicions), ajuda en l'entrenament.\n",
    "\n",
    "* Bag of words és una forma bastant naive de tractar el text. Una millora, que no implica grans canvis en el codi, és implementar TF-IDF.\n",
    "\n",
    "* A part d'intentar trobar una alpha òptima (en el sentit de temps inverit vs distància moguda), pots implementar una que aquest pas decaigui amb el temps. Per exemple, pots implementar una caiguda exponencial. Sigui $\\alpha_0$ el pas inicial, $it$ la iteració actual, $0 < \\beta < 1$ la caiguda que realitza i $\\gamma > 0$ el nombre d'iteracions cada quan s'aplica\n",
    "$$\\alpha = \\alpha_0 \\cdot \\beta ^ {\\frac{it}{\\gamma}}$$\n",
    "El plot mostra el comportament al llarg de les iteracions. Aplicant una divisó entera enlloc de flotant, es pot aconseguir un efecte \"escala\" enlloc de continu."
   ]
  },
  {
   "cell_type": "code",
   "execution_count": null,
   "metadata": {},
   "outputs": [],
   "source": [
    "if __name__ == '__main__':\n",
    "    alpha_0 = 1\n",
    "    beta = 0.95\n",
    "    gamma = 10000\n",
    "\n",
    "    iters = np.arange(1e6)\n",
    "    plt.figure(figsize=(20, 3))\n",
    "    plt.plot(iters, alpha_0 * beta ** (iters / gamma), color='b')\n",
    "    plt.plot(iters, alpha_0 * beta ** (iters // gamma), color='orange')"
   ]
  },
  {
   "cell_type": "markdown",
   "metadata": {},
   "source": [
    "### Codi per Kaggle\n",
    "\n",
    "Suposant que has trobat un model adequat a partir del teu split train/test, ara s'entrena un model igual (modifica el codi apropiadament) amb totes les dades.\n",
    "\n",
    "Amb aquest model final, es prediu sobre el conjunt de dades de Kaggle i es guarda el resultat. Tingueu en compte que el resultat que us mostrarà Kaggle és **sobre un 30% de les totes les dades que envieu**. Si baseu tot el model en els nombres que us digui Kaggle, estareu cometent un greu error, doncs no generalitzarà al 70% restant. Per trobar el millor model i provar les diferents millores, utilitzeu el vostre split train/test.\n",
    "\n",
    "https://www.kaggle.com/t/e5f6d1562dea41e68a53af9627646552"
   ]
  },
  {
   "cell_type": "code",
   "execution_count": null,
   "metadata": {},
   "outputs": [],
   "source": [
    "if __name__ == '__main__':\n",
    "    # Obtenim les features de les dades de Kaggle\n",
    "    df_kaggle = open_airbnb_data('data_kaggle')\n",
    "    \n",
    "    # Tokenitzem, agafant els més comuns que hem trobat abans\n",
    "    tok_kaggle = tokenize(df_kaggle)\n",
    "    feats_kaggle = get_features(df_kaggle, tok_kaggle, com)\n",
    "    \n",
    "    # Valors amb els que predirem el preu de la vivenda\n",
    "    X_kaggle = add_bias(feats_kaggle)"
   ]
  },
  {
   "cell_type": "code",
   "execution_count": null,
   "metadata": {},
   "outputs": [],
   "source": [
    "if __name__ == '__main__':    \n",
    "    # Entrenem el model, però ara amb totes les dades\n",
    "    # Modifica, si cal, per tal d'utilitzar les millores que hagis implementat\n",
    "    w0 = np.random.normal(size=(1, X.shape[1]))\n",
    "    wf_kaggle = gradient_descend(lambda w: model(w, X, Y), w0, 0.001, max_iter=5000, print_iters=100)    \n",
    "\n",
    "    # Efectuem la predicció i guardem el resultat\n",
    "    y_pred_test = linear_regression(X_kaggle, wf_kaggle)\n",
    "    df_kaggle['pred_price'] = y_pred_test\n",
    "    df_kaggle[['id', 'pred_price']].to_csv('submission.csv', index=None)"
   ]
  },
  {
   "cell_type": "markdown",
   "metadata": {},
   "source": [
    "### Implementa a continuació dos dels punts anteriors\n",
    "\n",
    "Copia, si fes falta, les funcions que necessitis i canvia'ls-hi el nom"
   ]
  },
  {
   "cell_type": "code",
   "execution_count": null,
   "metadata": {},
   "outputs": [],
   "source": []
  }
 ],
 "metadata": {
  "kernelspec": {
   "display_name": "Python 3",
   "language": "python",
   "name": "python3"
  },
  "language_info": {
   "codemirror_mode": {
    "name": "ipython",
    "version": 3
   },
   "file_extension": ".py",
   "mimetype": "text/x-python",
   "name": "python",
   "nbconvert_exporter": "python",
   "pygments_lexer": "ipython3",
   "version": "3.7.3"
  }
 },
 "nbformat": 4,
 "nbformat_minor": 2
}

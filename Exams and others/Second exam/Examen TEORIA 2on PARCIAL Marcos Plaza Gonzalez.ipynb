{
 "cells": [
  {
   "cell_type": "markdown",
   "metadata": {},
   "source": [
    "# Examen de Teoria (2on parcial)\n",
    "\n",
    "Totes les preguntes valen 2 punts. Aquest examen s'ha de realitzar en un temps màxim de 30 minuts."
   ]
  },
  {
   "cell_type": "markdown",
   "metadata": {},
   "source": [
    "**Pregunta 1**: En problemes d'exploració-explotació podem usar la funció `SoftMax` junt amb els mètodes ϵ-voraços. Quin objectiu té usar aquesta funció?"
   ]
  },
  {
   "cell_type": "markdown",
   "metadata": {},
   "source": [
    "En problemes d'exploració-expltació, si fem servir la funció SoftMax combinant amb la lógica dels ϵ-voraços, estem fent servir el métode de persecució. L'objectiu d'aquest mètode, és assignar a les accions una probabilitat proporcional a la recompensa que aquests ens proporcionen (SoftMax), agafant i actualitzant la probabilitat de l'acció més probable a cada iteració. Per tant, amb aixó aconseguim també un balanç entre l'exploració i l'explotació."
   ]
  },
  {
   "cell_type": "markdown",
   "metadata": {},
   "source": [
    "**Pregunta 2**: Com definiries una xarxa de món petit? Quines propietats tenen aquestes xarxes?"
   ]
  },
  {
   "cell_type": "markdown",
   "metadata": {},
   "source": [
    "Una xarxa de món petit és aquella on els seus nodes estàn molt interconnectats entre sí i compleix que podem arribar de una node i a un node j fent servir com a máxim 6 intermediaris(teoria dels 6 passos ideada per Milgram)(En pocs passos connectem un node qualsevol amb un altre). A més de la propietat mencionada anteriorment, aquest tipus de xarxes tenen altres propietats. Són xarxes molt robustes i resistents a la pèrdua o caiguda de nodes i usualment es formen grups o cliques on gairebé tots els nodes de la subxarxa estàn conectats amb tots. També compleix que la distribució de probabilitats dels graus produeix una funció potèncial inversa p(k) = k^-lambda. Per últim, també cal mencionar que la longitud del camí característic sol creixer proporcionalment amb el logaritme de la cardinalitat dels nodes (L proporcional a log |N| sent N els nodes del graf)."
   ]
  },
  {
   "cell_type": "markdown",
   "metadata": {},
   "source": [
    "**Pregunta 3**: Què volem dir exactament quan diem que un algorisme potser no és sempre \"just\" (des d'un punt de vista ètic)? Posa algun exemple pràctic. "
   ]
  },
  {
   "cell_type": "markdown",
   "metadata": {},
   "source": [
    "Generalment, un algorísme tracta les dades desde el punt de vista més objectiu possible. En ocasions s'han produït errors entre el l'objetiu de l'algorísme i els diferents tags que una fotografia pot tenir a una xarxa social d'internet. Com vam veure a teoria de l'assignatura hi va haver un cas en la xarxa social facebook on es tractaven temes controvertits a causa de que les dades que hi havien a la xarxa social estaven incorrectament etiquetades. D'altra banda els algorítmes necessiten de dades per dur a terme les seves funcions, i desde el punt de vista étic a vegades el nivell d'intrusió de l'usuari arriba a uns extrems insospitats(tot i que l'usuari sap en principi quines condicions accepta a l'hora d'accedir a un web)."
   ]
  },
  {
   "cell_type": "markdown",
   "metadata": {},
   "source": [
    "**Pregunta 4**: Per què, tot i que en teoria una xarxa Multilayer Perceptron simple pot aprendre qualsevol funció (segons el *Universal Approximation Theorem*) es fan xarxes amb molts layers (*deep learning*)?"
   ]
  },
  {
   "cell_type": "markdown",
   "metadata": {},
   "source": [
    "A la teoria estudiada a l'assignatura, podíem veure que gairebé qualsevol problema es podía resoldre amb una xarxa Multilayer Perceptron. Tot i aixó hi ha d'altres problemes que requereixen moltes capes, com per exemple les Convolutional Neural Networks, utilitzades en el reconeixement d'objectes dins una imatge. Aixó es causa de que es necessiten molt càlculs i un processament molt específic de les dades per acabar donant les probabilitats més correctes possible (assignació de pessos) per a cada classe d'objectes. Cada capa té la seva funció i en aquest cas en necessitem numeroses capes."
   ]
  },
  {
   "cell_type": "markdown",
   "metadata": {},
   "source": [
    "**Pregunta 5:** Explica què són, en què es basen i per a què serveixen els *filtres de Bloom*. "
   ]
  },
  {
   "cell_type": "markdown",
   "metadata": {},
   "source": [
    "Els filtres de Bloom están involucrats en el problema del filtratge d'elements (si) d'un subconjunt (E) dins una seqüència molt gran de dades (S). Volem comprobar si un element 'si' pertany o no pertany a E. Podríem pensar en emmagatzemar les dades en una llista i comprobar directament si es troben dins d'aquesta. El problema es que el temps per trobar un element augmenta proporcionalment amb el volum de les dades. Per tant, a vegades el tamany de la memòria no es suficient per a allotjar totes les dades que necessitem per a fer la comprobació, per aixó fem servir els filtres de Bloom.\n",
    "\n",
    "Els filtres de Bloom utilitzen un bit-array per emmagatzemar els elements del conjunt de dades, de manera que si un element pertany a aquest conjunt posa el bit a 1 (d'altra banda el posa a 0). A vegades ens trobarem que hi ha col·lisions entre elements del mateix conjunt o de fora del conjunt. Per a evitar reduir aquest error, es pertinent aplicar una cascada de k filtres de matera que els falsos positius es redueixen gairebé amb una probabilitat de que aquests apareguin de 0. \n",
    "\n",
    "Els avantatges d'aquests filtres per tant són; que tenim el control sobre els falsos positius i les col·lisions de dades a memòria, l'ús reduït de memòria, així com el temps de consulta."
   ]
  }
 ],
 "metadata": {
  "kernel_info": {
   "name": "python3"
  },
  "kernelspec": {
   "display_name": "Python 3",
   "language": "python",
   "name": "python3"
  },
  "language_info": {
   "codemirror_mode": {
    "name": "ipython",
    "version": 3
   },
   "file_extension": ".py",
   "mimetype": "text/x-python",
   "name": "python",
   "nbconvert_exporter": "python",
   "pygments_lexer": "ipython3",
   "version": "3.5.3"
  },
  "nteract": {
   "version": "0.15.0"
  }
 },
 "nbformat": 4,
 "nbformat_minor": 2
}

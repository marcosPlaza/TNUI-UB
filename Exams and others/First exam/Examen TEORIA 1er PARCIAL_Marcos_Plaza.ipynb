{
 "cells": [
  {
   "cell_type": "markdown",
   "metadata": {},
   "source": [
    "# Examen de Teoria (1er parcial)\n",
    "\n",
    "Totes les preguntes valen 2 punts. Aquest examen s'ha de realitzar en un temps màxim de 30 minuts."
   ]
  },
  {
   "cell_type": "markdown",
   "metadata": {},
   "source": [
    "**Pregunta 1**: Donada una taula formada per files del següent tipus:\n",
    "\n",
    "| ID Pacient    | Medicament_1  | Medicament_2 | ... | Medicament_n | Resultat |\n",
    "| ------------- | ------------- | -----        | --- | ------------ | ---------|\n",
    "| 234534        | AV4           | BG7G         | ... |  NIL         | 1        |\n",
    "| 345647        | JGG           | JBSU         | ... |  HGJKH       | 0        |\n",
    "| 984556        | RE6           | JUHG         | ... |  NIL         | 1        |\n",
    "\n",
    "on ``Medicament_i`` és l'ièssim medicament que es va pendre un pacient durant un tractament i ``Resultat`` val 1 quan el pacient tenir efectes no desitjats (i 0 si no en va tenir), com detectaries possibles interaccions perilloses (efectes laterals no desitjats) entre medicaments? "
   ]
  },
  {
   "cell_type": "markdown",
   "metadata": {},
   "source": [
    "Podem veure que es tracta d'un problema d'ítems freqüents. Per a veure correlacions i formular regles en que certes combinacions duguin a un determinat estat hauriem d'aplicar l'algorísme 'Apriori' estudiat a la teoria i a més estudiar el nivell de confiança posteriorment. Donat un conjunt d'ítems I, un subconjunt s pertanyent a I, i un valor per al suport (límit per descartar parelles, tripletes etc.) l'algorísme iterativament va trobant el numero de vegades en que aquests es repeteixen i va descartant en funció del valor del suport. Si un subconjunt c es troba en un subconjunt m no es repeteix les suficients vegades, tant el subconjunt c com l'm queden descartats. En el cas dels medicaments, per aquells que han donat resultats en que el pacient ha sofert algun dels efectes no desitjats, hauriem d'aplicar l'algorísme per trobar aquells medicaments que donen unes determinades freqüències, i posteriorment analitzar el grau de confiança per a dir si una determinada combinació de medicamnets es repeteix molt (la qual seria sospitosa de portar efectes no desitjats als pacients)."
   ]
  },
  {
   "cell_type": "markdown",
   "metadata": {},
   "source": [
    "**Pregunta 2**: Quin és el problema del *cold-start* en recomanació i com podem afrontar-lo? "
   ]
  },
  {
   "cell_type": "markdown",
   "metadata": {},
   "source": [
    "El problema del cold-start en recomanació succeeïx quan tenim usuaris o clients nous a la base de dades, que encara no han valorat cap item i que per tant no podem trobar el grau de semblança amb altres usuaris per a poder-li recomanar ítems d'interés per a aquest. El problema es basa en que un usuari nou sense dades, no ens és útil per a recomanar."
   ]
  },
  {
   "cell_type": "markdown",
   "metadata": {},
   "source": [
    "**Pregunta 3**: Per què diem que la *distància euclidiana* és pitjor que el *coeficient de correlació de\n",
    "Pearson* per certs problemes de recomanació?"
   ]
  },
  {
   "cell_type": "markdown",
   "metadata": {},
   "source": [
    "La distància euclidiana és un mètode per a trobar la semblança entre diferents usuaris pitjor que el coeficient de Pearson, ja que no té en compte de quina manera els usuaris avaluen els diferents ítems. No té en compte si un usuari 'A' és més exigent que un usuari 'B', ja que nomes compara l'arrel quadrada de la suma de les diferencies al quadrat entre les valoracions."
   ]
  },
  {
   "cell_type": "markdown",
   "metadata": {},
   "source": [
    "**Pregunta 4**: En el marc dels models probabilístics del llenguatge, és absolutament correcte aquesta fòrmula o és una aproximació? Justifica-ho.\n",
    "\n",
    "$$\n",
    "\\begin{equation}\n",
    "P(W_{1:n}) = P(W_n) \\times P(W_{n-1} | W_{n}) \\times P(W_{n-2} | W_{n-1}, W_{n}) \\times \\dots \\times P(W_{1} | W_{2}, \\dots, W_{n})\n",
    "\\end{equation}\n",
    "$$"
   ]
  },
  {
   "cell_type": "markdown",
   "metadata": {},
   "source": [
    "La fórmula que apareix en la anterior cel·la és absolutament correcta i serveix per a trobar la probabilitat de d'una seqüencia de tokens dins d'un corpus. Podem veure que no és una aproximació ja que te en compte tot el context de cada token o paraula en relació a la frase o seqüència. L'única particularitat d'aquests mètodes és que gairebé mai disposem de totes les dades que fan falta per a calcular les probabilitats parcials i en conseqüència la probabilitat de la seqüència."
   ]
  },
  {
   "cell_type": "markdown",
   "metadata": {},
   "source": [
    "**Pregunta 5:** Què és la funció de distribució mostral de la mitjana? Com en podem obtebir una aproximació amb tènciques de *shuffling*?"
   ]
  },
  {
   "cell_type": "markdown",
   "metadata": {},
   "source": [
    "Es tracta de la funció calculada mitjançant les mitjanes de l'analísi estadístic de les dades d'una mostra. Podem veure que normalment adopta una forma de campana de gauss on els valors situats al centre són els més freqüènts dins la mostra. Una aproximació mitjançant tècniques de 'suffling', donat una mostra, hauríem de truncar els valors de la mostra aleatòriament  (que no la quantitat de valors), de forma que s'aniría modificant la freqüència de cadascun i anar calculant les mitjanes en cada iteració del bucle. Aixó cada cop, és a dir en cada iteració donaría uns valors per a la mitjana molt propers als reals (convergència). El mètode suffling és l'equivalent a fer tants experiments com és vulgui a través d'un número de mostres més reduït."
   ]
  }
 ],
 "metadata": {
  "kernel_info": {
   "name": "python3"
  },
  "kernelspec": {
   "display_name": "Python 3",
   "language": "python",
   "name": "python3"
  },
  "language_info": {
   "codemirror_mode": {
    "name": "ipython",
    "version": 3
   },
   "file_extension": ".py",
   "mimetype": "text/x-python",
   "name": "python",
   "nbconvert_exporter": "python",
   "pygments_lexer": "ipython3",
   "version": "3.6.5"
  },
  "nteract": {
   "version": "0.12.3"
  }
 },
 "nbformat": 4,
 "nbformat_minor": 2
}

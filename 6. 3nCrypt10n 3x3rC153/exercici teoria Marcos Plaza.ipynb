{
 "cells": [
  {
   "cell_type": "markdown",
   "metadata": {
    "colab_type": "text",
    "id": "Dcq6v9Rbnmc1"
   },
   "source": [
    "# Xifrat i probabilitats\n",
    "\n",
    "En aquest notebook volem abordar una tasca molt concreta: descodificar codis secrets. \n",
    "\n",
    "Ho farem amb el més simple dels codis, un xifrat de rotació, de vegades anomenat xifratge de majúscules o xifratge Cèsar (perquè es tractava d’última generació de criptografia al 100 aC). \n",
    "\n"
   ]
  },
  {
   "cell_type": "code",
   "execution_count": 2,
   "metadata": {
    "colab": {},
    "colab_type": "code",
    "id": "vZ4HoYbTkeEp"
   },
   "outputs": [],
   "source": [
    "from __future__ import division\n",
    "import re\n",
    "import math\n",
    "import string\n",
    "import random\n",
    "from collections import Counter\n",
    "from math import log10\n",
    "from matplotlib.pyplot import yscale, xscale, title, plot\n",
    "import requests\n",
    "\n",
    "alphabet = 'abcdefghijklmnopqrstuvwxyz' "
   ]
  },
  {
   "cell_type": "markdown",
   "metadata": {
    "colab_type": "text",
    "id": "g-X3xH_CoMVK"
   },
   "source": [
    "Per fer-ho ens basarem en les probabilitat de les paraules que poden apareixer en el text. \n",
    "\n",
    "Començarem llegint un text molt gran per estimar-les."
   ]
  },
  {
   "cell_type": "code",
   "execution_count": 3,
   "metadata": {
    "colab": {},
    "colab_type": "code",
    "id": "9IZRn7AAkmu3"
   },
   "outputs": [
    {
     "name": "stdout",
     "output_type": "stream",
     "text": [
      "Tenim un text amb 6488666 paraules\n"
     ]
    }
   ],
   "source": [
    "r = requests.get('https://raw.githubusercontent.com/norvig/pytudes/master/data/text/big.txt')\n",
    "r.text #Contnent of the response, in unicode -> r.encoding is utf-8\n",
    "TEXT = r.text #Cannot print TEXT -> We are exceeding NotebookApp.iopub_data_rate_limit \n",
    "print('Tenim un text amb',len(TEXT),'paraules')"
   ]
  },
  {
   "cell_type": "markdown",
   "metadata": {
    "colab_type": "text",
    "id": "NIniOytFooPS"
   },
   "source": [
    "Anem ara a veure quants *tokens* (o paraules úniques) hi ha i quantes vegades surt cada paraula."
   ]
  },
  {
   "cell_type": "code",
   "execution_count": 4,
   "metadata": {
    "colab": {},
    "colab_type": "code",
    "id": "tikLqYNWkoKs"
   },
   "outputs": [
    {
     "name": "stdout",
     "output_type": "stream",
     "text": [
      "Tenim un text amb 1105285 paraules diferents\n",
      "[('the', 80030), ('of', 40025), ('and', 38313), ('to', 28766), ('in', 22050), ('a', 21155), ('that', 12512), ('he', 12401), ('was', 11410), ('it', 10681)]\n",
      "80030 the\n",
      "83 rare\n",
      "38313 and\n",
      "0 neverbeforeseen\n",
      "460 words\n"
     ]
    }
   ],
   "source": [
    "def tokens(text):\n",
    "    \"List all the word tokens (consecutive letters) in a text. Normalize to lowercase.\"\n",
    "    return re.findall('[a-z]+', text.lower()) #Look for all regular expressions at the text that use characters.\n",
    "#With the + we are getting a list of every different word instead a list of every character -> We are not taking upper case letters\n",
    "#so we need to use text.lower() method\n",
    "\n",
    "WORDS = tokens(TEXT)\n",
    "print('Tenim un text amb',len(WORDS),'paraules diferents') \n",
    "\n",
    "COUNTS = Counter(WORDS) #We are getting a list of tuples with [('word_n', number of coincidences),...]\n",
    "\n",
    "# Vegades que surten les 10 paraules més freqüents\n",
    "print(COUNTS.most_common(10))\n",
    "\n",
    "# Vegades que surten les paraules d'un text\n",
    "for w in tokens('the rare and neverbeforeseen words'):\n",
    "    print(COUNTS[w], w)"
   ]
  },
  {
   "cell_type": "markdown",
   "metadata": {
    "colab_type": "text",
    "id": "O7irzwRFpvB7"
   },
   "source": [
    "Anem ara a calcular la distribució de probabilitats de les paraules i d'una frase formada per aquestes paraules."
   ]
  },
  {
   "cell_type": "code",
   "execution_count": 5,
   "metadata": {
    "colab": {},
    "colab_type": "code",
    "id": "4JV2xWVdktK2"
   },
   "outputs": [
    {
     "name": "stdout",
     "output_type": "stream",
     "text": [
      "La P de the és 0.07240666434449033\n",
      "La P de is és 0.008842968103249388\n",
      "La P de most és 0.0008215075749693518\n",
      "La P de common és 0.0002596615352601365\n",
      "La P de word és 0.0002696137195383996\n",
      "La P de in és 0.019949605757790978\n",
      "La P de english és 0.00019090098933759167\n",
      "Probabilitat d'una frase: 4.111418791681202e-10\n"
     ]
    }
   ],
   "source": [
    "def pdist(counter):\n",
    "    \"Make a probability distribution, given evidence from a Counter.\"\n",
    "    N = sum(counter.values())\n",
    "    return lambda x: counter[x]/N #For every value on counts (x) calcule its probability on the text\n",
    "\n",
    "Pword = pdist(COUNTS)\n",
    "\n",
    "# Imprimim les probabilitats d'unes quantes paraules\n",
    "for w in tokens('\"The\" is most common word in English'):\n",
    "    print('La P de', w, 'és', Pword(w))\n",
    "\n",
    "def Pwords(words):\n",
    "    \"Probability of a sentence, assuming each word is independent of others.\"\n",
    "    if product(Pword(w) for w in words) == 0.0: return None #If the probability of a word is equal to 0 return None\n",
    "    else: return product(Pword(w) for w in words)\n",
    "\n",
    "def product(nums):\n",
    "    \"Multiply the numbers together.  (Like `sum`, but with multiplication.)\"\n",
    "    result = 1\n",
    "    for x in nums:\n",
    "        result *= x\n",
    "    return result\n",
    "\n",
    "print(\"Probabilitat d'una frase:\",Pwords(['large', 'and', 'insignificant']))"
   ]
  },
  {
   "cell_type": "markdown",
   "metadata": {
    "colab_type": "text",
    "id": "VyOM0O-VrmBv"
   },
   "source": [
    "Per últim, anem a definir l'esquema de codificació."
   ]
  },
  {
   "cell_type": "code",
   "execution_count": 6,
   "metadata": {
    "colab": {},
    "colab_type": "code",
    "id": "I5HN2l-okzRR"
   },
   "outputs": [
    {
     "name": "stdout",
     "output_type": "stream",
     "text": [
      "Text:        Who knows the answer this time?\n",
      "Text xifrat: Ita wzaie ftq mzeiqd ftue fuyq?\n"
     ]
    }
   ],
   "source": [
    "def upperlower(text): return text.upper() + text.lower()  \n",
    "\n",
    "def rot(msg, n=13): \n",
    "    \"Encode a message with a rotation (Caesar) cipher.\" \n",
    "    return encode(msg, alphabet[n:]+alphabet[:n])\n",
    "\n",
    "def encode(msg, key): \n",
    "    \"Encode a message with a substitution cipher.\" \n",
    "    table = str.maketrans(upperlower(alphabet), upperlower(key))\n",
    "    return msg.translate(table) \n",
    "\n",
    "msg = 'Who knows the answer this time?'\n",
    "secret = rot(msg, 12)\n",
    "\n",
    "print('Text:       ',msg)\n",
    "print('Text xifrat:',secret)\n"
   ]
  },
  {
   "cell_type": "markdown",
   "metadata": {
    "colab_type": "text",
    "id": "IwyX5g5JsN9T"
   },
   "source": [
    "## Exercici: \n",
    "\n",
    "Completa el codi de la funció 'decode' seguint les següents idees:\n",
    "\n",
    "+ El xifrat de la frase només pot tenir tantes claus diferents com lletres diferents hi ha.\n",
    "+ Si provem tots els possibles desxifrats possibles, el correcte és el que dona la seqüencia de paraules més probable.\n",
    "\n",
    "Tingues en compte també que potser cal modificar la funció `Pword` de manera que cap paraula tingui probabilitat 0."
   ]
  },
  {
   "cell_type": "code",
   "execution_count": 7,
   "metadata": {
    "colab": {},
    "colab_type": "code",
    "id": "VUB7WQCtl1Xo"
   },
   "outputs": [],
   "source": [
    "\"\"\"\n",
    "The algorithm will proceed as the following way:\n",
    "    1) First we will use a loop to try all the possible keys\n",
    "    2) For each one of the keys we will calculate the probability of every sentence. We will use a dictionary\n",
    "       in order to put {probability: key}\n",
    "    3) Finally we will pick the key which give the greater probability\n",
    "    4) We will return the decoded message with the key we will try\n",
    "    \n",
    "    So this function return a decoded message with the key used on Caesar cipher\n",
    "    \n",
    "    :param secret: string with the encoded message\n",
    "    :return : tuple(string with the decoded message, the key integer)\n",
    "\"\"\"\n",
    "def decode(secret):\n",
    "    aux_dict = {} \n",
    "    for i in range(len(alphabet)): #Trying the probability of every message and storing results on the dictionary\n",
    "        words = tokens(rot(secret,i))\n",
    "        if Pwords(words) != None: aux_dict[Pwords(words)] = i #Pwords modified before to return None instead 0\n",
    "            \n",
    "    key = max(aux_dict.values()) #Pick the maximum probability key\n",
    "    return (rot(secret,n=key), key)"
   ]
  },
  {
   "cell_type": "code",
   "execution_count": 8,
   "metadata": {},
   "outputs": [
    {
     "name": "stdout",
     "output_type": "stream",
     "text": [
      "Ita wzaie ftq mzeiqd ftue fuyq?\n",
      "('Who knows the answer this time?', 14)\n",
      "Riv pfl fb?\n",
      "('Are you ok?', 9)\n"
     ]
    }
   ],
   "source": [
    "msg = 'Who knows the answer this time?'\n",
    "secret = rot(msg, 12)\n",
    "\n",
    "print(secret)\n",
    "print(decode(secret))\n",
    "\n",
    "\n",
    "msg = 'Are you ok?'\n",
    "secret = rot(msg, 17)\n",
    "\n",
    "print(secret)\n",
    "print(decode(secret))"
   ]
  }
 ],
 "metadata": {
  "colab": {
   "name": "TNUI.ipynb",
   "provenance": []
  },
  "kernel_info": {
   "name": "python3"
  },
  "kernelspec": {
   "display_name": "Python 3",
   "language": "python",
   "name": "python3"
  },
  "language_info": {
   "codemirror_mode": {
    "name": "ipython",
    "version": 3
   },
   "file_extension": ".py",
   "mimetype": "text/x-python",
   "name": "python",
   "nbconvert_exporter": "python",
   "pygments_lexer": "ipython3",
   "version": "3.7.3"
  },
  "nteract": {
   "version": "0.12.3"
  }
 },
 "nbformat": 4,
 "nbformat_minor": 1
}
